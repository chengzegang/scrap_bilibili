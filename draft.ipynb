{
 "cells": [
  {
   "cell_type": "code",
   "execution_count": null,
   "metadata": {},
   "outputs": [],
   "source": [
    "import torch\n",
    "from dataset import MVFDataset\n",
    "\n",
    "dataset = MVFDataset(\"data/frames/\")"
   ]
  },
  {
   "cell_type": "code",
   "execution_count": null,
   "metadata": {},
   "outputs": [],
   "source": [
    "import cucim\n",
    "\n",
    "path = \"/home/zc2309/workspace/scrap_bilibili/data/frames/BV1a4411T7KR/000000.jpg\""
   ]
  },
  {
   "cell_type": "code",
   "execution_count": null,
   "metadata": {},
   "outputs": [],
   "source": [
    "import cucim.skimage as sk\n",
    "import skimage\n",
    "\n",
    "skimage.io.imread(path)\n",
    "img = skimage.io.imread(path)\n",
    "img = sk.util.crop(img, ((0, 0), (0, 0), (0, 16)))"
   ]
  },
  {
   "cell_type": "code",
   "execution_count": 1,
   "metadata": {},
   "outputs": [
    {
     "ename": "NotImplementedError",
     "evalue": "Subclasses of Dataset should implement __getitem__.",
     "output_type": "error",
     "traceback": [
      "\u001b[0;31m---------------------------------------------------------------------------\u001b[0m",
      "\u001b[0;31mNotImplementedError\u001b[0m                       Traceback (most recent call last)",
      "\u001b[1;32m/home/zc2309/workspace/scrap_bilibili/draft.ipynb Cell 4\u001b[0m line \u001b[0;36m4\n\u001b[1;32m      <a href='vscode-notebook-cell://wsl%2Bubuntu-22.04/home/zc2309/workspace/scrap_bilibili/draft.ipynb#W3sdnNjb2RlLXJlbW90ZQ%3D%3D?line=0'>1</a>\u001b[0m \u001b[39mfrom\u001b[39;00m \u001b[39mdataset\u001b[39;00m \u001b[39mimport\u001b[39;00m MVFDataset\n\u001b[1;32m      <a href='vscode-notebook-cell://wsl%2Bubuntu-22.04/home/zc2309/workspace/scrap_bilibili/draft.ipynb#W3sdnNjb2RlLXJlbW90ZQ%3D%3D?line=2'>3</a>\u001b[0m dataset \u001b[39m=\u001b[39m MVFDataset(\u001b[39m256\u001b[39m)\n\u001b[0;32m----> <a href='vscode-notebook-cell://wsl%2Bubuntu-22.04/home/zc2309/workspace/scrap_bilibili/draft.ipynb#W3sdnNjb2RlLXJlbW90ZQ%3D%3D?line=3'>4</a>\u001b[0m imgs \u001b[39m=\u001b[39m dataset[\u001b[39m0\u001b[39;49m]\n",
      "File \u001b[0;32m~/miniforge3/lib/python3.10/site-packages/torch/utils/data/dataset.py:61\u001b[0m, in \u001b[0;36mDataset.__getitem__\u001b[0;34m(self, index)\u001b[0m\n\u001b[1;32m     60\u001b[0m \u001b[39mdef\u001b[39;00m \u001b[39m__getitem__\u001b[39m(\u001b[39mself\u001b[39m, index) \u001b[39m-\u001b[39m\u001b[39m>\u001b[39m T_co:\n\u001b[0;32m---> 61\u001b[0m     \u001b[39mraise\u001b[39;00m \u001b[39mNotImplementedError\u001b[39;00m(\u001b[39m\"\u001b[39m\u001b[39mSubclasses of Dataset should implement __getitem__.\u001b[39m\u001b[39m\"\u001b[39m)\n",
      "\u001b[0;31mNotImplementedError\u001b[0m: Subclasses of Dataset should implement __getitem__."
     ]
    }
   ],
   "source": [
    "from dataset import MVFDataset\n",
    "\n",
    "dataset = MVFDataset(256)\n",
    "imgs = dataset[0]"
   ]
  },
  {
   "cell_type": "code",
   "execution_count": null,
   "metadata": {},
   "outputs": [],
   "source": [
    "import torchvision.transforms.v2.functional as TF\n",
    "\n",
    "TF.to_pil_image(imgs[\"frames\"][1])"
   ]
  },
  {
   "cell_type": "code",
   "execution_count": null,
   "metadata": {},
   "outputs": [],
   "source": [
    "import matplotlib.pyplot as plt\n",
    "\n",
    "plt.imshow(dataset[0][1].permute(1, 2, 0))"
   ]
  },
  {
   "cell_type": "code",
   "execution_count": null,
   "metadata": {},
   "outputs": [],
   "source": [
    "import dropboxdrivefs\n",
    "from datasets import load_dataset_builder, DatasetBuilder, Dataset, load_dataset\n",
    "import fsspec\n",
    "import os\n",
    "\n",
    "folder_path = \"dropbox://MVFdataset\"\n",
    "output_dir = \"dropbox://MVFdataset-parquet\"\n",
    "# fs = dropboxdrivefs.DropboxDriveFileSystem(token=os.environ[\"DBX_ACCESS_TOKEN\"])\n",
    "# fs.ls(folder_path)\n",
    "storage_options = {\"token\": os.environ[\"DBX_ACCESS_TOKEN\"]}\n",
    "\n",
    "# Dataset.from_generator()\n",
    "# dataset = load_dataset_builder(\n",
    "#    \"dropbox://MVFdataset\", storage_options=storage_options\n",
    "# ).download_and_prepare(\n",
    "#    output_dir, storage_options=storage_options, file_format=\"parquet\"\n",
    "# )"
   ]
  },
  {
   "cell_type": "code",
   "execution_count": null,
   "metadata": {},
   "outputs": [],
   "source": [
    "import dropbox\n",
    "import dotenv\n",
    "import dropbox.files\n",
    "\n",
    "dotenv.load_dotenv()\n",
    "dbx = dropbox.Dropbox(\n",
    "    app_key=os.environ[\"DBX_APP_KEY\"], app_secret=os.environ[\"DBX_APP_SECRET\"]\n",
    ")\n",
    "shared_link = \"https://www.dropbox.com/scl/fo/z3y2lpkse2ttkv7r6juwp/h?rlkey=novhi3doocnz2za7rv0vh36rx&dl=0\"\n",
    "sl = dropbox.files.SharedLink(url=shared_link)\n",
    "dbx.files_list_folder(path=\"\", shared_link=sl)[0].cursor"
   ]
  },
  {
   "cell_type": "code",
   "execution_count": null,
   "metadata": {},
   "outputs": [],
   "source": [
    "from dropbox.files import FileMetadata\n",
    "\n",
    "dbx.files_download()"
   ]
  },
  {
   "cell_type": "code",
   "execution_count": null,
   "metadata": {},
   "outputs": [],
   "source": [
    "dbx.files_list_folder(path=\"\", shared_link=sl).entries[0].download_to_file(\n",
    "    \"data/frames/0016.jpg\"\n",
    ")"
   ]
  },
  {
   "cell_type": "code",
   "execution_count": null,
   "metadata": {},
   "outputs": [],
   "source": [
    "load_dataset(\"dropbox://MVFdataset\", storage_options=storage_options)"
   ]
  },
  {
   "cell_type": "code",
   "execution_count": null,
   "metadata": {},
   "outputs": [],
   "source": []
  }
 ],
 "metadata": {
  "kernelspec": {
   "display_name": "base",
   "language": "python",
   "name": "python3"
  },
  "language_info": {
   "codemirror_mode": {
    "name": "ipython",
    "version": 3
   },
   "file_extension": ".py",
   "mimetype": "text/x-python",
   "name": "python",
   "nbconvert_exporter": "python",
   "pygments_lexer": "ipython3",
   "version": "3.10.12"
  }
 },
 "nbformat": 4,
 "nbformat_minor": 2
}
