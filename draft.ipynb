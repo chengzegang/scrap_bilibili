{
 "cells": [
  {
   "cell_type": "code",
   "execution_count": null,
   "metadata": {},
   "outputs": [],
   "source": [
    "import torch\n",
    "from dataset import MVFDataset\n",
    "\n",
    "dataset = MVFDataset(\"data/frames/\")"
   ]
  },
  {
   "cell_type": "code",
   "execution_count": 2,
   "metadata": {},
   "outputs": [],
   "source": [
    "import cucim\n",
    "\n",
    "path = \"/home/zc2309/workspace/scrap_bilibili/data/frames/BV1a4411T7KR/000000.jpg\""
   ]
  },
  {
   "cell_type": "code",
   "execution_count": 8,
   "metadata": {},
   "outputs": [
    {
     "ename": "AttributeError",
     "evalue": "No cucim attribute imread",
     "output_type": "error",
     "traceback": [
      "\u001b[0;31m---------------------------------------------------------------------------\u001b[0m",
      "\u001b[0;31mAttributeError\u001b[0m                            Traceback (most recent call last)",
      "\u001b[1;32m/home/zc2309/workspace/scrap_bilibili/draft.ipynb Cell 3\u001b[0m line \u001b[0;36m4\n\u001b[1;32m      <a href='vscode-notebook-cell://wsl%2Bubuntu-22.04/home/zc2309/workspace/scrap_bilibili/draft.ipynb#X12sdnNjb2RlLXJlbW90ZQ%3D%3D?line=1'>2</a>\u001b[0m \u001b[39mimport\u001b[39;00m \u001b[39mskimage\u001b[39;00m\n\u001b[1;32m      <a href='vscode-notebook-cell://wsl%2Bubuntu-22.04/home/zc2309/workspace/scrap_bilibili/draft.ipynb#X12sdnNjb2RlLXJlbW90ZQ%3D%3D?line=2'>3</a>\u001b[0m skimage\u001b[39m.\u001b[39mio\u001b[39m.\u001b[39mimread(path)\n\u001b[0;32m----> <a href='vscode-notebook-cell://wsl%2Bubuntu-22.04/home/zc2309/workspace/scrap_bilibili/draft.ipynb#X12sdnNjb2RlLXJlbW90ZQ%3D%3D?line=3'>4</a>\u001b[0m img \u001b[39m=\u001b[39m cucim\u001b[39m.\u001b[39;49mimread(path)\n",
      "File \u001b[0;32m~/miniforge3/lib/python3.10/site-packages/lazy_loader/__init__.py:89\u001b[0m, in \u001b[0;36mattach.<locals>.__getattr__\u001b[0;34m(name)\u001b[0m\n\u001b[1;32m     87\u001b[0m     \u001b[39mreturn\u001b[39;00m attr\n\u001b[1;32m     88\u001b[0m \u001b[39melse\u001b[39;00m:\n\u001b[0;32m---> 89\u001b[0m     \u001b[39mraise\u001b[39;00m \u001b[39mAttributeError\u001b[39;00m(\u001b[39mf\u001b[39m\u001b[39m\"\u001b[39m\u001b[39mNo \u001b[39m\u001b[39m{\u001b[39;00mpackage_name\u001b[39m}\u001b[39;00m\u001b[39m attribute \u001b[39m\u001b[39m{\u001b[39;00mname\u001b[39m}\u001b[39;00m\u001b[39m\"\u001b[39m)\n",
      "\u001b[0;31mAttributeError\u001b[0m: No cucim attribute imread"
     ]
    },
    {
     "ename": "",
     "evalue": "",
     "output_type": "error",
     "traceback": [
      "\u001b[1;31mThe Kernel crashed while executing code in the the current cell or a previous cell. Please review the code in the cell(s) to identify a possible cause of the failure. Click <a href='https://aka.ms/vscodeJupyterKernelCrash'>here</a> for more info. View Jupyter <a href='command:jupyter.viewOutput'>log</a> for further details."
     ]
    }
   ],
   "source": [
    "import cucim.skimage as sk\n",
    "import skimage\n",
    "skimage.io.imread(path)\n",
    "img = skimage.io.imread(path)\n",
    "img = sk.util.crop(img, ((0, 0), (0, 0), (0, 16)))"
   ]
  },
  {
   "cell_type": "code",
   "execution_count": 6,
   "metadata": {},
   "outputs": [
    {
     "data": {
      "text/plain": [
       "array([[[ 41,  24,  14],\n",
       "        [ 25,  11,   0],\n",
       "        [ 69,  54,  47],\n",
       "        ...,\n",
       "        [209, 226, 233],\n",
       "        [209, 226, 233],\n",
       "        [209, 226, 233]],\n",
       "\n",
       "       [[ 28,  11,   1],\n",
       "        [ 36,  22,  11],\n",
       "        [ 39,  25,  16],\n",
       "        ...,\n",
       "        [209, 226, 233],\n",
       "        [209, 226, 233],\n",
       "        [209, 226, 233]],\n",
       "\n",
       "       [[ 45,  29,  16],\n",
       "        [ 38,  24,  13],\n",
       "        [ 19,   5,   0],\n",
       "        ...,\n",
       "        [209, 226, 233],\n",
       "        [209, 226, 233],\n",
       "        [209, 226, 233]],\n",
       "\n",
       "       ...,\n",
       "\n",
       "       [[153, 142, 112],\n",
       "        [146, 135, 105],\n",
       "        [127, 116,  86],\n",
       "        ...,\n",
       "        [103,  89,  42],\n",
       "        [ 98,  84,  37],\n",
       "        [103,  89,  42]],\n",
       "\n",
       "       [[150, 141, 110],\n",
       "        [120, 111,  80],\n",
       "        [101,  92,  61],\n",
       "        ...,\n",
       "        [117, 103,  58],\n",
       "        [109,  95,  50],\n",
       "        [108,  94,  49]],\n",
       "\n",
       "       [[137, 128,  97],\n",
       "        [119, 110,  79],\n",
       "        [119, 110,  79],\n",
       "        ...,\n",
       "        [104,  90,  45],\n",
       "        [ 89,  75,  30],\n",
       "        [ 99,  85,  40]]], dtype=uint8)"
      ]
     },
     "execution_count": 6,
     "metadata": {},
     "output_type": "execute_result"
    }
   ],
   "source": [
    "import skimage\n",
    "skimage.io.imread(path)"
   ]
  },
  {
   "cell_type": "code",
   "execution_count": null,
   "metadata": {},
   "outputs": [],
   "source": [
    "import matplotlib.pyplot as plt\n",
    "\n",
    "plt.imshow(dataset[0][1].permute(1, 2, 0))"
   ]
  },
  {
   "cell_type": "code",
   "execution_count": null,
   "metadata": {},
   "outputs": [],
   "source": [
    "import dropboxdrivefs\n",
    "from datasets import load_dataset_builder, DatasetBuilder, Dataset, load_dataset\n",
    "import fsspec\n",
    "import os\n",
    "\n",
    "folder_path = \"dropbox://MVFdataset\"\n",
    "output_dir = \"dropbox://MVFdataset-parquet\"\n",
    "# fs = dropboxdrivefs.DropboxDriveFileSystem(token=os.environ[\"DBX_ACCESS_TOKEN\"])\n",
    "# fs.ls(folder_path)\n",
    "storage_options = {\"token\": os.environ[\"DBX_ACCESS_TOKEN\"]}\n",
    "\n",
    "# Dataset.from_generator()\n",
    "# dataset = load_dataset_builder(\n",
    "#    \"dropbox://MVFdataset\", storage_options=storage_options\n",
    "# ).download_and_prepare(\n",
    "#    output_dir, storage_options=storage_options, file_format=\"parquet\"\n",
    "# )"
   ]
  },
  {
   "cell_type": "code",
   "execution_count": null,
   "metadata": {},
   "outputs": [],
   "source": [
    "import dropbox\n",
    "import dotenv\n",
    "import dropbox.files\n",
    "\n",
    "dotenv.load_dotenv()\n",
    "dbx = dropbox.Dropbox(\n",
    "    app_key=os.environ[\"DBX_APP_KEY\"], app_secret=os.environ[\"DBX_APP_SECRET\"]\n",
    ")\n",
    "shared_link = \"https://www.dropbox.com/scl/fo/z3y2lpkse2ttkv7r6juwp/h?rlkey=novhi3doocnz2za7rv0vh36rx&dl=0\"\n",
    "sl = dropbox.files.SharedLink(url=shared_link)\n",
    "dbx.files_list_folder(path=\"\", shared_link=sl)[0].cursor"
   ]
  },
  {
   "cell_type": "code",
   "execution_count": null,
   "metadata": {},
   "outputs": [],
   "source": [
    "from dropbox.files import FileMetadata\n",
    "\n",
    "dbx.files_download()"
   ]
  },
  {
   "cell_type": "code",
   "execution_count": null,
   "metadata": {},
   "outputs": [],
   "source": [
    "dbx.files_list_folder(path=\"\", shared_link=sl).entries[0].download_to_file(\n",
    "    \"data/frames/0016.jpg\"\n",
    ")"
   ]
  },
  {
   "cell_type": "code",
   "execution_count": null,
   "metadata": {},
   "outputs": [],
   "source": [
    "load_dataset(\"dropbox://MVFdataset\", storage_options=storage_options)"
   ]
  },
  {
   "cell_type": "code",
   "execution_count": null,
   "metadata": {},
   "outputs": [],
   "source": []
  }
 ],
 "metadata": {
  "kernelspec": {
   "display_name": "base",
   "language": "python",
   "name": "python3"
  },
  "language_info": {
   "codemirror_mode": {
    "name": "ipython",
    "version": 3
   },
   "file_extension": ".py",
   "mimetype": "text/x-python",
   "name": "python",
   "nbconvert_exporter": "python",
   "pygments_lexer": "ipython3",
   "version": "3.10.12"
  }
 },
 "nbformat": 4,
 "nbformat_minor": 2
}
